{
 "cells": [
  {
   "cell_type": "code",
   "execution_count": 2,
   "metadata": {},
   "outputs": [
    {
     "name": "stderr",
     "output_type": "stream",
     "text": [
      "d:\\Python\\Gym Super Mario\\.env\\lib\\site-packages\\tqdm\\auto.py:21: TqdmWarning: IProgress not found. Please update jupyter and ipywidgets. See https://ipywidgets.readthedocs.io/en/stable/user_install.html\n",
      "  from .autonotebook import tqdm as notebook_tqdm\n"
     ]
    }
   ],
   "source": [
    "import optuna\n",
    "import pickle"
   ]
  },
  {
   "cell_type": "code",
   "execution_count": 11,
   "metadata": {},
   "outputs": [
    {
     "data": {
      "text/plain": [
       "<optuna.study.study.Study at 0x21771b733d0>"
      ]
     },
     "execution_count": 11,
     "metadata": {},
     "output_type": "execute_result"
    }
   ],
   "source": [
    "with open(\"best_params/oct_1\", \"rb\") as file:\n",
    "    studies =pickle.load(file)\n",
    "studies"
   ]
  },
  {
   "cell_type": "code",
   "execution_count": 12,
   "metadata": {},
   "outputs": [
    {
     "data": {
      "text/plain": [
       "[FrozenTrial(number=0, state=TrialState.RUNNING, values=None, datetime_start=datetime.datetime(2024, 10, 1, 18, 18, 27, 509142), datetime_complete=None, params={'n_layers': 5, 'neurons_hidden_layer_1': 449, 'neurons_hidden_layer_2': 415, 'neurons_hidden_layer_3': 355, 'neurons_hidden_layer_4': 321, 'neurons_hidden_layer_5': 284, 'policy': 'CnnPolicy', 'learning_rate': 0.00010124688594867382, 'n_epochs': 5, 'batch_size': 1918, 'clip_range': 0.23544932235526367, 'target_kl': 0.013758221096674675, 'gamma': 0.9430589964110918, 'gae_lambda': 0.9602803488073622, 'vf_coef': 0.8334190982843684, 'ent_coef': 0.00014560913282949054, 'n_steps': 4098}, user_attrs={}, system_attrs={}, intermediate_values={}, distributions={'n_layers': IntDistribution(high=6, log=False, low=3, step=1), 'neurons_hidden_layer_1': IntDistribution(high=512, log=False, low=256, step=1), 'neurons_hidden_layer_2': IntDistribution(high=512, log=False, low=256, step=1), 'neurons_hidden_layer_3': IntDistribution(high=512, log=False, low=256, step=1), 'neurons_hidden_layer_4': IntDistribution(high=512, log=False, low=256, step=1), 'neurons_hidden_layer_5': IntDistribution(high=512, log=False, low=256, step=1), 'policy': CategoricalDistribution(choices=('CnnPolicy',)), 'learning_rate': FloatDistribution(high=0.00010125, log=True, low=0.00010124, step=None), 'n_epochs': IntDistribution(high=5, log=False, low=4, step=1), 'batch_size': IntDistribution(high=1919, log=False, low=1918, step=1), 'clip_range': FloatDistribution(high=0.23545, log=True, low=0.235449, step=None), 'target_kl': FloatDistribution(high=0.01375823, log=True, low=0.01375822, step=None), 'gamma': FloatDistribution(high=0.99, log=True, low=0.921127, step=None), 'gae_lambda': FloatDistribution(high=0.96029, log=True, low=0.96028, step=None), 'vf_coef': FloatDistribution(high=0.83342, log=True, low=0.833419, step=None), 'ent_coef': FloatDistribution(high=0.00014561, log=True, low=0.0001456, step=None), 'n_steps': IntDistribution(high=4098, log=False, low=4097, step=1)}, trial_id=0, value=None),\n",
       " FrozenTrial(number=1, state=TrialState.RUNNING, values=None, datetime_start=datetime.datetime(2024, 10, 1, 18, 18, 27, 511145), datetime_complete=None, params={'n_layers': 3, 'neurons_hidden_layer_1': 440, 'neurons_hidden_layer_2': 367, 'neurons_hidden_layer_3': 314, 'policy': 'CnnPolicy', 'learning_rate': 0.00010124768303016806, 'n_epochs': 4, 'batch_size': 1919, 'clip_range': 0.23544952405490047, 'target_kl': 0.013758226041623257, 'gamma': 0.9808500734959742, 'gae_lambda': 0.9602802537278526, 'vf_coef': 0.8334190957091359, 'ent_coef': 0.00014560261513862856, 'n_steps': 4097}, user_attrs={}, system_attrs={}, intermediate_values={}, distributions={'n_layers': IntDistribution(high=6, log=False, low=3, step=1), 'neurons_hidden_layer_1': IntDistribution(high=512, log=False, low=256, step=1), 'neurons_hidden_layer_2': IntDistribution(high=512, log=False, low=256, step=1), 'neurons_hidden_layer_3': IntDistribution(high=512, log=False, low=256, step=1), 'policy': CategoricalDistribution(choices=('CnnPolicy',)), 'learning_rate': FloatDistribution(high=0.00010125, log=True, low=0.00010124, step=None), 'n_epochs': IntDistribution(high=5, log=False, low=4, step=1), 'batch_size': IntDistribution(high=1919, log=False, low=1918, step=1), 'clip_range': FloatDistribution(high=0.23545, log=True, low=0.235449, step=None), 'target_kl': FloatDistribution(high=0.01375823, log=True, low=0.01375822, step=None), 'gamma': FloatDistribution(high=0.99, log=True, low=0.921127, step=None), 'gae_lambda': FloatDistribution(high=0.96029, log=True, low=0.96028, step=None), 'vf_coef': FloatDistribution(high=0.83342, log=True, low=0.833419, step=None), 'ent_coef': FloatDistribution(high=0.00014561, log=True, low=0.0001456, step=None), 'n_steps': IntDistribution(high=4098, log=False, low=4097, step=1)}, trial_id=1, value=None),\n",
       " FrozenTrial(number=2, state=TrialState.RUNNING, values=None, datetime_start=datetime.datetime(2024, 10, 1, 18, 18, 27, 513141), datetime_complete=None, params={'n_layers': 4, 'neurons_hidden_layer_1': 497, 'neurons_hidden_layer_2': 419, 'neurons_hidden_layer_3': 289, 'neurons_hidden_layer_4': 464, 'policy': 'CnnPolicy', 'learning_rate': 0.0001012453931081404, 'n_epochs': 4, 'batch_size': 1918, 'clip_range': 0.23544923701880452, 'target_kl': 0.013758226246314691, 'gamma': 0.9626047878150056, 'gae_lambda': 0.9602862844992569, 'vf_coef': 0.8334195664581332, 'ent_coef': 0.0001456071196609686, 'n_steps': 4098}, user_attrs={}, system_attrs={}, intermediate_values={}, distributions={'n_layers': IntDistribution(high=6, log=False, low=3, step=1), 'neurons_hidden_layer_1': IntDistribution(high=512, log=False, low=256, step=1), 'neurons_hidden_layer_2': IntDistribution(high=512, log=False, low=256, step=1), 'neurons_hidden_layer_3': IntDistribution(high=512, log=False, low=256, step=1), 'neurons_hidden_layer_4': IntDistribution(high=512, log=False, low=256, step=1), 'policy': CategoricalDistribution(choices=('CnnPolicy',)), 'learning_rate': FloatDistribution(high=0.00010125, log=True, low=0.00010124, step=None), 'n_epochs': IntDistribution(high=5, log=False, low=4, step=1), 'batch_size': IntDistribution(high=1919, log=False, low=1918, step=1), 'clip_range': FloatDistribution(high=0.23545, log=True, low=0.235449, step=None), 'target_kl': FloatDistribution(high=0.01375823, log=True, low=0.01375822, step=None), 'gamma': FloatDistribution(high=0.99, log=True, low=0.921127, step=None), 'gae_lambda': FloatDistribution(high=0.96029, log=True, low=0.96028, step=None), 'vf_coef': FloatDistribution(high=0.83342, log=True, low=0.833419, step=None), 'ent_coef': FloatDistribution(high=0.00014561, log=True, low=0.0001456, step=None), 'n_steps': IntDistribution(high=4098, log=False, low=4097, step=1)}, trial_id=2, value=None),\n",
       " FrozenTrial(number=3, state=TrialState.RUNNING, values=None, datetime_start=datetime.datetime(2024, 10, 1, 18, 18, 27, 515143), datetime_complete=None, params={'n_layers': 6, 'neurons_hidden_layer_1': 440, 'neurons_hidden_layer_2': 447, 'neurons_hidden_layer_3': 263, 'neurons_hidden_layer_4': 333, 'neurons_hidden_layer_5': 467, 'neurons_hidden_layer_6': 442, 'policy': 'CnnPolicy', 'learning_rate': 0.00010124755819739913, 'n_epochs': 5, 'batch_size': 1919, 'clip_range': 0.23544947961605, 'target_kl': 0.013758225144643917, 'gamma': 0.9603187412656983, 'gae_lambda': 0.9602819620439135, 'vf_coef': 0.8334193697461467, 'ent_coef': 0.0001456020890933211, 'n_steps': 4098}, user_attrs={}, system_attrs={}, intermediate_values={}, distributions={'n_layers': IntDistribution(high=6, log=False, low=3, step=1), 'neurons_hidden_layer_1': IntDistribution(high=512, log=False, low=256, step=1), 'neurons_hidden_layer_2': IntDistribution(high=512, log=False, low=256, step=1), 'neurons_hidden_layer_3': IntDistribution(high=512, log=False, low=256, step=1), 'neurons_hidden_layer_4': IntDistribution(high=512, log=False, low=256, step=1), 'neurons_hidden_layer_5': IntDistribution(high=512, log=False, low=256, step=1), 'neurons_hidden_layer_6': IntDistribution(high=512, log=False, low=256, step=1), 'policy': CategoricalDistribution(choices=('CnnPolicy',)), 'learning_rate': FloatDistribution(high=0.00010125, log=True, low=0.00010124, step=None), 'n_epochs': IntDistribution(high=5, log=False, low=4, step=1), 'batch_size': IntDistribution(high=1919, log=False, low=1918, step=1), 'clip_range': FloatDistribution(high=0.23545, log=True, low=0.235449, step=None), 'target_kl': FloatDistribution(high=0.01375823, log=True, low=0.01375822, step=None), 'gamma': FloatDistribution(high=0.99, log=True, low=0.921127, step=None), 'gae_lambda': FloatDistribution(high=0.96029, log=True, low=0.96028, step=None), 'vf_coef': FloatDistribution(high=0.83342, log=True, low=0.833419, step=None), 'ent_coef': FloatDistribution(high=0.00014561, log=True, low=0.0001456, step=None), 'n_steps': IntDistribution(high=4098, log=False, low=4097, step=1)}, trial_id=3, value=None),\n",
       " FrozenTrial(number=4, state=TrialState.RUNNING, values=None, datetime_start=datetime.datetime(2024, 10, 1, 18, 18, 27, 517144), datetime_complete=None, params={'n_layers': 5, 'neurons_hidden_layer_1': 495, 'neurons_hidden_layer_2': 414, 'neurons_hidden_layer_3': 377, 'neurons_hidden_layer_4': 281, 'neurons_hidden_layer_5': 474, 'policy': 'CnnPolicy', 'learning_rate': 0.00010124518870353412, 'n_epochs': 5, 'batch_size': 1918, 'clip_range': 0.23544921413780545, 'target_kl': 0.01375822651159254, 'gamma': 0.9628033486044686, 'gae_lambda': 0.9602843057997902, 'vf_coef': 0.8334199629307834, 'ent_coef': 0.00014560245019128837, 'n_steps': 4097}, user_attrs={}, system_attrs={}, intermediate_values={}, distributions={'n_layers': IntDistribution(high=6, log=False, low=3, step=1), 'neurons_hidden_layer_1': IntDistribution(high=512, log=False, low=256, step=1), 'neurons_hidden_layer_2': IntDistribution(high=512, log=False, low=256, step=1), 'neurons_hidden_layer_3': IntDistribution(high=512, log=False, low=256, step=1), 'neurons_hidden_layer_4': IntDistribution(high=512, log=False, low=256, step=1), 'neurons_hidden_layer_5': IntDistribution(high=512, log=False, low=256, step=1), 'policy': CategoricalDistribution(choices=('CnnPolicy',)), 'learning_rate': FloatDistribution(high=0.00010125, log=True, low=0.00010124, step=None), 'n_epochs': IntDistribution(high=5, log=False, low=4, step=1), 'batch_size': IntDistribution(high=1919, log=False, low=1918, step=1), 'clip_range': FloatDistribution(high=0.23545, log=True, low=0.235449, step=None), 'target_kl': FloatDistribution(high=0.01375823, log=True, low=0.01375822, step=None), 'gamma': FloatDistribution(high=0.99, log=True, low=0.921127, step=None), 'gae_lambda': FloatDistribution(high=0.96029, log=True, low=0.96028, step=None), 'vf_coef': FloatDistribution(high=0.83342, log=True, low=0.833419, step=None), 'ent_coef': FloatDistribution(high=0.00014561, log=True, low=0.0001456, step=None), 'n_steps': IntDistribution(high=4098, log=False, low=4097, step=1)}, trial_id=4, value=None)]"
      ]
     },
     "execution_count": 12,
     "metadata": {},
     "output_type": "execute_result"
    }
   ],
   "source": [
    "studies.trials"
   ]
  },
  {
   "cell_type": "code",
   "execution_count": 13,
   "metadata": {},
   "outputs": [
    {
     "data": {
      "text/plain": [
       "{'n_layers': 5,\n",
       " 'neurons_hidden_layer_1': 495,\n",
       " 'neurons_hidden_layer_2': 414,\n",
       " 'neurons_hidden_layer_3': 377,\n",
       " 'neurons_hidden_layer_4': 281,\n",
       " 'neurons_hidden_layer_5': 474,\n",
       " 'policy': 'CnnPolicy',\n",
       " 'learning_rate': 0.00010124518870353412,\n",
       " 'n_epochs': 5,\n",
       " 'batch_size': 1918,\n",
       " 'clip_range': 0.23544921413780545,\n",
       " 'target_kl': 0.01375822651159254,\n",
       " 'gamma': 0.9628033486044686,\n",
       " 'gae_lambda': 0.9602843057997902,\n",
       " 'vf_coef': 0.8334199629307834,\n",
       " 'ent_coef': 0.00014560245019128837,\n",
       " 'n_steps': 4097}"
      ]
     },
     "execution_count": 13,
     "metadata": {},
     "output_type": "execute_result"
    }
   ],
   "source": [
    "best_params_1 = studies.trials[4].params\n",
    "best_params_1"
   ]
  },
  {
   "cell_type": "code",
   "execution_count": 15,
   "metadata": {},
   "outputs": [
    {
     "data": {
      "text/plain": [
       "{'n_layers': 5,\n",
       " 'neurons_hidden_layer_1': 449,\n",
       " 'neurons_hidden_layer_2': 415,\n",
       " 'neurons_hidden_layer_3': 355,\n",
       " 'neurons_hidden_layer_4': 321,\n",
       " 'neurons_hidden_layer_5': 284,\n",
       " 'policy': 'CnnPolicy',\n",
       " 'learning_rate': 0.00010124688594867382,\n",
       " 'n_epochs': 5,\n",
       " 'batch_size': 1918,\n",
       " 'clip_range': 0.23544932235526367,\n",
       " 'target_kl': 0.013758221096674675,\n",
       " 'gamma': 0.9430589964110918,\n",
       " 'gae_lambda': 0.9602803488073622,\n",
       " 'vf_coef': 0.8334190982843684,\n",
       " 'ent_coef': 0.00014560913282949054,\n",
       " 'n_steps': 4098}"
      ]
     },
     "execution_count": 15,
     "metadata": {},
     "output_type": "execute_result"
    }
   ],
   "source": [
    "best_params_2 = studies.trials[0].params\n",
    "best_params_2"
   ]
  },
  {
   "cell_type": "code",
   "execution_count": 5,
   "metadata": {},
   "outputs": [
    {
     "ename": "EOFError",
     "evalue": "Ran out of input",
     "output_type": "error",
     "traceback": [
      "\u001b[1;31m---------------------------------------------------------------------------\u001b[0m",
      "\u001b[1;31mEOFError\u001b[0m                                  Traceback (most recent call last)",
      "Cell \u001b[1;32mIn[5], line 2\u001b[0m\n\u001b[0;32m      1\u001b[0m \u001b[38;5;28;01mwith\u001b[39;00m \u001b[38;5;28mopen\u001b[39m(\u001b[38;5;124m\"\u001b[39m\u001b[38;5;124mbest_params/oct_1_9\u001b[39m\u001b[38;5;124m\"\u001b[39m, \u001b[38;5;124m\"\u001b[39m\u001b[38;5;124mrb\u001b[39m\u001b[38;5;124m\"\u001b[39m) \u001b[38;5;28;01mas\u001b[39;00m file:\n\u001b[1;32m----> 2\u001b[0m     studies \u001b[38;5;241m=\u001b[39m\u001b[43mpickle\u001b[49m\u001b[38;5;241;43m.\u001b[39;49m\u001b[43mload\u001b[49m\u001b[43m(\u001b[49m\u001b[43mfile\u001b[49m\u001b[43m)\u001b[49m\n\u001b[0;32m      3\u001b[0m studies\n",
      "\u001b[1;31mEOFError\u001b[0m: Ran out of input"
     ]
    }
   ],
   "source": [
    "with open(\"best_params/oct_1_9\", \"rb\") as file:\n",
    "    studies =pickle.load(file)\n",
    "studies"
   ]
  }
 ],
 "metadata": {
  "kernelspec": {
   "display_name": ".env",
   "language": "python",
   "name": "python3"
  },
  "language_info": {
   "codemirror_mode": {
    "name": "ipython",
    "version": 3
   },
   "file_extension": ".py",
   "mimetype": "text/x-python",
   "name": "python",
   "nbconvert_exporter": "python",
   "pygments_lexer": "ipython3",
   "version": "3.8.0"
  }
 },
 "nbformat": 4,
 "nbformat_minor": 2
}
